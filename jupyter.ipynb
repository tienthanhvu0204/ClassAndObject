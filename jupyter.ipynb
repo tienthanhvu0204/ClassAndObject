{
 "cells": [
  {
   "cell_type": "code",
   "execution_count": 1,
   "metadata": {},
   "outputs": [
    {
     "name": "stdout",
     "output_type": "stream",
     "text": [
      "Hello Thành\n"
     ]
    }
   ],
   "source": [
    "print (\"Hello Thành\")"
   ]
  },
  {
   "cell_type": "code",
   "execution_count": 2,
   "metadata": {},
   "outputs": [
    {
     "name": "stdout",
     "output_type": "stream",
     "text": [
      "None\n",
      "['MSSV: 2008327, Họ và tên: Tuan, Ngày sinh: none, Quê quán: none, Chuyên ngành: none, Lớp: none']\n",
      "['MSSV: 2008300, Họ và tên: Thuy, Ngày sinh: none, Quê quán: none, Chuyên ngành: none, Lớp: none']\n",
      "['MSSV: 2008198, Họ và tên: Thao, Ngày sinh: none, Quê quán: none, Chuyên ngành: none, Lớp: none']\n"
     ]
    }
   ],
   "source": [
    "\n",
    "class Student:\n",
    "    def __init__(self, mssv = \"none\", hoVaTen = \"none\", ngaySinh = \"none\", queQuan = \"none\", chuyenNganh = \"none\", lop = \"none\"):\n",
    "        self.mssv = mssv\n",
    "        self.hoVaTen = hoVaTen\n",
    "        self.ngaySinh = ngaySinh\n",
    "        self.queQuan = queQuan\n",
    "        self.chuyenNganh = chuyenNganh\n",
    "        self.lop = lop\n",
    "    \n",
    "    def thongtin (self):\n",
    "        return [\"MSSV: {}, Họ và tên: {}, Ngày sinh: {}, Quê quán: {}, Chuyên ngành: {}, Lớp: {}\".format \\\n",
    "            (self.mssv, self.hoVaTen, self.ngaySinh, self.queQuan, self.chuyenNganh, self.lop)]\n",
    "class StudentList:\n",
    "    def __init__(self, studentList = []):\n",
    "        self.list = studentList\n",
    "    \n",
    "    def show (self):\n",
    "            for student in self.list:\n",
    "                print (student.thongtin ())\n",
    "        \n",
    "        \n",
    "    def add (self, students = []):\n",
    "        self.list += (students)\n",
    "        return\n",
    "\n",
    "    def update (self, mssv, newInfor):\n",
    "        for i in range (len(self.list)):\n",
    "            if self.list[i].mssv == mssv:\n",
    "                self.list[i] = newInfor\n",
    "                break\n",
    "        return\n",
    "\n",
    "\n",
    "    # def deleteStudent (self, mssv):\n",
    "    #     del self.list.mssv (mssv)\n",
    "\n",
    "    # def search (self, mssv):\n",
    "    \n",
    "    # def sor (self):\n",
    "\n",
    "\n",
    "\n",
    "\n",
    "thanh = Student (2008298, \"Vu Tien Thanh\", \"01/03/1990\", \"Dong Nai\")\n",
    "thuy = Student (2008300, \"Thuy\")\n",
    "thao = Student (2008198, \"Thao\")\n",
    "tuan = Student (2008327, \"Tuan\")\n",
    "\n",
    "danhsachlop = StudentList ()\n",
    "danhsachlop.show ()\n",
    "danhsachlop.add ([thanh])\n",
    "danhsachlop.add ([thuy, thao])\n",
    "\n",
    "danhsachlop.update (2008298, tuan)\n",
    "\n",
    "\n",
    "danhsachlop.show ()\n",
    "\n",
    "\n"
   ]
  },
  {
   "cell_type": "code",
   "execution_count": 6,
   "metadata": {},
   "outputs": [
    {
     "name": "stdout",
     "output_type": "stream",
     "text": [
      "30\n",
      "40\n"
     ]
    }
   ],
   "source": [
    "class Number:\n",
    "\n",
    "    num = 10\n",
    "\n",
    "    def __init__(self, num):\n",
    "\n",
    "        self.num = num+10\n",
    "\n",
    "        print(num)\n",
    "        \n",
    "\n",
    "n = Number(30)\n",
    "print (n.num)\n"
   ]
  },
  {
   "cell_type": "code",
   "execution_count": null,
   "metadata": {},
   "outputs": [],
   "source": []
  }
 ],
 "metadata": {
  "interpreter": {
   "hash": "6ab48febc2dc804377893e46a56b9ddbc1f959fa16837565a1acc5cc003c0246"
  },
  "kernelspec": {
   "display_name": "Python 3.9.7 ('base')",
   "language": "python",
   "name": "python3"
  },
  "language_info": {
   "codemirror_mode": {
    "name": "ipython",
    "version": 3
   },
   "file_extension": ".py",
   "mimetype": "text/x-python",
   "name": "python",
   "nbconvert_exporter": "python",
   "pygments_lexer": "ipython3",
   "version": "3.9.7"
  },
  "orig_nbformat": 4
 },
 "nbformat": 4,
 "nbformat_minor": 2
}
