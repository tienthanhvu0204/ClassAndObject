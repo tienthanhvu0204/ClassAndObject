{
 "cells": [
  {
   "cell_type": "code",
   "execution_count": null,
   "id": "4980ef7a",
   "metadata": {},
   "outputs": [],
   "source": [
    "student ={\n",
    "    \"name\":\"Emma\",\n",
    "    \"class\": 9,\n",
    "    \"marks\":75\n",
    "}\n",
    "\n",
    "m = student.get('marks')\n",
    "print (m)"
   ]
  },
  {
   "cell_type": "code",
   "execution_count": null,
   "id": "6b4e8eda",
   "metadata": {},
   "outputs": [],
   "source": [
    "a = 2\n",
    "b = 3\n",
    "c = 2\n",
    "if a > b:\n",
    "    if b > c:\n",
    "        print (a)\n",
    "    else:\n",
    "        if a > c:\n",
    "            print (a)\n",
    "        else:\n",
    "            print (c)\n",
    "else:\n",
    "    if b > c :\n",
    "        print (b)\n",
    "    else:\n",
    "        print (c)\n",
    "        "
   ]
  },
  {
   "cell_type": "code",
   "execution_count": null,
   "id": "c66efb86",
   "metadata": {},
   "outputs": [],
   "source": [
    "a = input (\"Nhập số 3 chữ số: \")\n",
    "total = 0\n",
    "if int(a[0])%2 == 1:\n",
    "    total += int(a[0])\n",
    "if int(a[1])%2 == 1:\n",
    "    total += int(a[1])\n",
    "if int(a[2])%2 == 1:\n",
    "    total += int(a[2])\n",
    "print (total)"
   ]
  },
  {
   "cell_type": "code",
   "execution_count": null,
   "id": "546077e9",
   "metadata": {},
   "outputs": [],
   "source": [
    "so_SP = int (input (\"Nhập số lượng sản phẩm:\"))\n",
    "so_SP_1Trang = int (input (\"Nhập số lượng sản phẩm trên 1 trang:\"))\n",
    "so_Trang = so_SP // so_SP_1Trang\n",
    "if so_SP % so_SP_1Trang > 0:\n",
    "    so_Trang += 1\n",
    "print (so_Trang)"
   ]
  },
  {
   "cell_type": "code",
   "execution_count": null,
   "id": "3011704c",
   "metadata": {},
   "outputs": [],
   "source": [
    "dtb = float (input (\"Nhập điểm trung bình: \"))\n",
    "xep_loai = \"\"\n",
    "if dtb >= 8:\n",
    "    xep_loai = \"Giỏi\"\n",
    "elif dtb >= 6.5:\n",
    "    xep_loai = \"Khá\"\n",
    "elif dtb >= 5:\n",
    "    xep_loai = \"Trung bình\"\n",
    "else:\n",
    "    xep_loai = \"Yếu\"\n",
    "\n",
    "print (\"Xếp loại:\", xep_loai)\n",
    "    \n",
    "    "
   ]
  },
  {
   "cell_type": "code",
   "execution_count": null,
   "id": "89bda654",
   "metadata": {},
   "outputs": [],
   "source": [
    "year = int (input (\"Nhập năm: \"))\n",
    "if year % 400 == 0 or (year % 4 == 0 and year % 100 !=0):\n",
    "    print (\"Năm nhuận\")\n",
    "else:\n",
    "    print (\"Năm không nhuận\")\n",
    "    "
   ]
  },
  {
   "cell_type": "code",
   "execution_count": null,
   "id": "175771c2",
   "metadata": {},
   "outputs": [],
   "source": [
    "import turtle\n",
    "import math\n",
    "\n",
    "class Circle:\n",
    "    def __init__ (self, r, x, y):\n",
    "        '''\n",
    "        Hàm khởi tạo\n",
    "        r: bán kính\n",
    "        x: hoành độ tâm\n",
    "        y: tung độ tâm\n",
    "        '''\n",
    "        self.r = r\n",
    "        self.x = x\n",
    "        self.y = y\n",
    "    \n",
    "    def draw (self):\n",
    "        'Phương thức vẽ hình tròn'\n",
    "        t = turtle.Turtle ()\n",
    "        t.hideturtle ()\n",
    "        t.penup ()\n",
    "        t.goto (self.x , self.y - self.r)\n",
    "        t.pendown ()\n",
    "        t.circle (self.r)\n",
    "        turtle.done ()\n",
    "\n",
    "    def area (self):\n",
    "        'Phương thức tính diện tích hình tròn'\n",
    "        return math.pi * self.r ** 2\n",
    "\n",
    "    def perimeter (self):\n",
    "        'Phương thức tính chu vi hình tròn'\n",
    "        return math.pi * self.r * 2\n",
    "\n",
    "    \n",
    "c = Circle (100, 10, 50)\n",
    "c.draw ()\n",
    "print ('Diện tích bằng:', c.area())\n",
    "print ('Chu vi bằng:', c.perimeter())\n",
    "    \n",
    "\n"
   ]
  },
  {
   "cell_type": "code",
   "execution_count": null,
   "id": "299c7012",
   "metadata": {},
   "outputs": [],
   "source": [
    "import random\n",
    "\n",
    "class Flashcard:\n",
    "    def __init__ (self):\n",
    "        self.animals = {\n",
    "            'con ong':'bee',\n",
    "            'con thỏ':'rabit',\n",
    "            'con rùa':'turtle',\n",
    "            'con vịt':'duck',\n",
    "            'con chó':'dog',\n",
    "            'con mèo':'cat',\n",
    "            'con hổ':'tiger',\n",
    "            'con cá':'fish'\n",
    "        }\n",
    "\n",
    "    def quiz(self):\n",
    "        while True:\n",
    "            vietnamese, english = random.choice (list(self.animals.items()))\n",
    "            # %s dùng cho string, %d cho interger, %f cho float, %.2f cho 2 số sau dấu ','\n",
    "            print ('Tiếng Anh của %s là?' %vietnamese)\n",
    "            print (f'Tiếng Anh của {vietnamese} là?')\n",
    "            userAnswer = input ('Nhập đáp án của bạn: ')\n",
    "            if english == userAnswer.lower():\n",
    "                print ('Chúc mừng bạn đã trả lời đúng!')\n",
    "            else:\n",
    "                print ('Rất tiếc bạn đã trả lời sai!')\n",
    "            option = input ('Tiếp tục? (y/n): ')\n",
    "            if option == 'n':\n",
    "                break\n",
    "        print ('Kết thúc')\n",
    "    \n",
    "fc = Flashcard ()\n",
    "fc.quiz ()\n",
    "\n",
    "\n",
    "\n",
    "\n"
   ]
  },
  {
   "cell_type": "code",
   "execution_count": null,
   "id": "63c3d5ef",
   "metadata": {},
   "outputs": [],
   "source": [
    "n = int (input ('Nhập số lần lặp: '))\n",
    "kytu = input ('Nhập ký tự: ')\n",
    "count = 0\n",
    "while count < n:\n",
    "    print (kytu, end = '')\n",
    "    count += 1"
   ]
  },
  {
   "cell_type": "code",
   "execution_count": null,
   "id": "a8d3805d",
   "metadata": {},
   "outputs": [],
   "source": [
    "# tạo object di chuyển\n",
    "# import turtle package\n",
    "import turtle\n",
    "\n",
    "\n",
    "# function for movement of an object \n",
    "def moving_object(move):\n",
    "    \n",
    "    # to fill the color in ball\n",
    "    move.fillcolor('orange') \n",
    "    \n",
    "    # start color filling\n",
    "    move.begin_fill() \n",
    "    \n",
    "    # draw circle\n",
    "    move.circle(20)  \n",
    "    \n",
    "    # end color filling\n",
    "    move.end_fill()             \n",
    "\n",
    "# Driver Code\n",
    "if __name__ == \"__main__\" :\n",
    "    \n",
    "    # create a screen object\n",
    "    screen = turtle.Screen() \n",
    "\n",
    "    # set screen size\n",
    "    screen.setup(600,600)    \n",
    "\n",
    "    # screen background color\n",
    "    screen.bgcolor('green')   \n",
    "\n",
    "    # screen updaion \n",
    "    screen.tracer(0)           \n",
    "\n",
    "    # create a turtle object object\n",
    "    move = turtle.Turtle() \n",
    "\n",
    "    # set a turtle object color\n",
    "    move.color('orange')\n",
    "\n",
    "    # set turtle object speed\n",
    "    move.speed(0) \n",
    "\n",
    "    # set turtle object width\n",
    "    move.width(2)     \n",
    "\n",
    "    # hide turtle object\n",
    "    move.hideturtle()          \n",
    "\n",
    "    # turtle object in air\n",
    "    move.penup()               \n",
    "\n",
    "    # set initial position\n",
    "    move.goto(-250, 0) \n",
    "\n",
    "    # move turtle object to surface\n",
    "    move.pendown()             \n",
    "\n",
    "    # infinite loop\n",
    "    while True :\n",
    "        \n",
    "        # clear turtle work\n",
    "        move.clear()  \n",
    "        \n",
    "        # call function to draw ball\n",
    "        moving_object(move)   \n",
    "        \n",
    "        # update screen\n",
    "        screen.update()    \n",
    "        \n",
    "        # forward motion by turtle object\n",
    "        move.forward(0.5)      "
   ]
  },
  {
   "cell_type": "code",
   "execution_count": null,
   "id": "e45dc09e",
   "metadata": {},
   "outputs": [],
   "source": [
    "while True:\n",
    "    x = input (\"Nhập số: \")\n",
    "    if not x.isdigit ():\n",
    "        break\n",
    "\n",
    "print (\"Kết thúc:\")"
   ]
  },
  {
   "cell_type": "code",
   "execution_count": 6,
   "id": "4a2313d8",
   "metadata": {},
   "outputs": [
    {
     "name": "stdout",
     "output_type": "stream",
     "text": [
      "Số lớn nhất là: 9\n"
     ]
    }
   ],
   "source": [
    "n = \"1983746425\"\n",
    "\n",
    "max = 0\n",
    "i = len (n)\n",
    "\n",
    "while i > 0:\n",
    "    i -= 1\n",
    "    if int (n[i]) > max:\n",
    "        max = int (n[i])   \n",
    "\n",
    "print (\"Số lớn nhất là:\", max)\n"
   ]
  },
  {
   "cell_type": "code",
   "execution_count": 22,
   "id": "543e4058",
   "metadata": {},
   "outputs": [
    {
     "name": "stdout",
     "output_type": "stream",
     "text": [
      "1\n",
      "2\n",
      "Chuỗi số là: 123123123123234\n",
      "Số n là: 31\n",
      "Vị trí đầu tiên của n trong chuỗi số là: 3\n"
     ]
    }
   ],
   "source": [
    "chuoi = input (\"Nhập chuỗi số: \")\n",
    "n = input (\"Nhập số nguyên dương n: \")\n",
    "if len (n) < len (chuoi):\n",
    "    i = len (chuoi) - len (n) + 1\n",
    "    vitri = 0\n",
    "    while vitri < i:\n",
    "        if chuoi [vitri: vitri + len (n):] == n:\n",
    "            vitri += 1\n",
    "            break\n",
    "        vitri += 1\n",
    "        print (vitri)\n",
    "    if chuoi [vitri - 1: vitri - 1 + len (n):] != n:\n",
    "        vitri = \"không có!\"\n",
    "elif chuoi == n:\n",
    "    vitri = 1\n",
    "else:\n",
    "    vitri = \"không có!\"\n",
    "\n",
    "print (\"Chuỗi số là:\", chuoi)\n",
    "print (\"Số n là:\", n)\n",
    "print (\"Vị trí đầu tiên của n trong chuỗi số là:\", vitri)\n",
    "\n",
    "\n",
    "\n",
    "\n"
   ]
  },
  {
   "cell_type": "code",
   "execution_count": 105,
   "id": "ac7c6446",
   "metadata": {},
   "outputs": [
    {
     "name": "stdout",
     "output_type": "stream",
     "text": [
      "Số từ trong chuỗi là: 4\n",
      "0.007800102233886719\n"
     ]
    }
   ],
   "source": [
    "import time\n",
    "t0 = time.time ()\n",
    "chuoi = \" abc xyz hí hi \"\n",
    "chuoi = chuoi.strip ()\n",
    "\n",
    "so_tu = 0\n",
    "i = len (chuoi) - 1\n",
    "while i > 0:\n",
    "    if chuoi [i] == ' ':\n",
    "        so_tu += 1\n",
    "    i -= 1\n",
    "\n",
    "print ('Số từ trong chuỗi là:', so_tu + 1)\n",
    "print (time.time() - t0)\n"
   ]
  },
  {
   "cell_type": "code",
   "execution_count": 7,
   "id": "dd743eb0",
   "metadata": {},
   "outputs": [
    {
     "name": "stdout",
     "output_type": "stream",
     "text": [
      "n = 5\n",
      "n! = 120\n"
     ]
    }
   ],
   "source": [
    "# Tính n!\n",
    "\n",
    "n = int (input (\"Nhập n: \"))\n",
    "N = 1\n",
    "print ('n =', n)\n",
    "while n > 1:\n",
    "    N *= n\n",
    "    n -= 1\n",
    "print ('n! =', N)\n"
   ]
  },
  {
   "cell_type": "code",
   "execution_count": 35,
   "id": "8714ae93",
   "metadata": {},
   "outputs": [
    {
     "name": "stdout",
     "output_type": "stream",
     "text": [
      "n không phải số nguyên tố.\n"
     ]
    }
   ],
   "source": [
    "# Kiem tra so nguyen to\n",
    "\n",
    "n = int (input (\"Nhập n: \"))\n",
    "i = 2\n",
    "result = \"n là số nguyên tố.\"\n",
    "while i < n:\n",
    "    if n % i == 0:\n",
    "        result = \"n không phải số nguyên tố.\"\n",
    "        break\n",
    "    i += 1\n",
    "print (result)\n"
   ]
  },
  {
   "cell_type": "code",
   "execution_count": 48,
   "id": "3daf7026",
   "metadata": {},
   "outputs": [
    {
     "name": "stdout",
     "output_type": "stream",
     "text": [
      "90127467 không là số nguyên tố\n",
      "90127467 = 3*3*10014163\n"
     ]
    }
   ],
   "source": [
    "# Kiem tra so nguyen to\n",
    "def check (n):\n",
    "    i = 2\n",
    "    result = True\n",
    "    while i < n:\n",
    "        if n % i == 0:\n",
    "            result = False\n",
    "\n",
    "            break\n",
    "        i += 1\n",
    "    return result\n",
    "def express (n):\n",
    "    i = 2\n",
    "    result = \"{} = \".format(n)\n",
    "    while i <= n:\n",
    "        if n % i == 0:\n",
    "            result += \"{}*\".format(i)\n",
    "            n = n/i\n",
    "            # print (n, result)\n",
    "        else:\n",
    "            i += 1\n",
    "    return print ((result[:len(result)-1]))\n",
    "\n",
    "n = int (input (\"Nhập n: \"))\n",
    "if check (n) == True:\n",
    "    print (\"{} là số nguyên tố\".format(n))\n",
    "else:\n",
    "    print (\"{} không là số nguyên tố\".format(n))\n",
    "    express (n)"
   ]
  },
  {
   "cell_type": "code",
   "execution_count": 1,
   "id": "1a10143a",
   "metadata": {},
   "outputs": [
    {
     "name": "stdout",
     "output_type": "stream",
     "text": [
      "J,h,o,n,"
     ]
    }
   ],
   "source": [
    "i = 0\n",
    "\n",
    "j = 20\n",
    "\n",
    "while True:\n",
    "\n",
    "    j -= 2\n",
    "\n",
    "    i += 3\n",
    "\n",
    "    if i >= j:\n",
    "\n",
    "        break\n",
    "\n",
    "    if j > 15:\n",
    "\n",
    "        continue\n",
    "\n",
    "    print(i, j, sep='', end='')\n",
    "\n",
    "else:\n",
    "\n",
    "    print(j, end='')\n",
    "\n",
    "print('a')"
   ]
  }
 ],
 "metadata": {
  "interpreter": {
   "hash": "aee8b7b246df8f9039afb4144a1f6fd8d2ca17a180786b69acc140d282b71a49"
  },
  "kernelspec": {
   "display_name": "Python 3.10.4 64-bit",
   "language": "python",
   "name": "python3"
  },
  "language_info": {
   "codemirror_mode": {
    "name": "ipython",
    "version": 3
   },
   "file_extension": ".py",
   "mimetype": "text/x-python",
   "name": "python",
   "nbconvert_exporter": "python",
   "pygments_lexer": "ipython3",
   "version": "3.10.4"
  }
 },
 "nbformat": 4,
 "nbformat_minor": 5
}
